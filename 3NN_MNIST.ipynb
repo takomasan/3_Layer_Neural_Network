{
 "cells": [
  {
   "cell_type": "markdown",
   "metadata": {},
   "source": [
    "### Used Language : Python3"
   ]
  },
  {
   "cell_type": "markdown",
   "metadata": {},
   "source": [
    "# Downloading MNIST\n",
    "\n",
    "Reference:  \n",
    "https://github.com/Lasagne/Lasagne/blob/master/examples/mnist.py  \n",
    "https://github.com/oreilly-japan/deep-learning-from-scratch/blob/master/dataset/mnist.py "
   ]
  },
  {
   "cell_type": "code",
   "execution_count": 1,
   "metadata": {
    "collapsed": true
   },
   "outputs": [],
   "source": [
    "import numpy as np\n",
    "import os\n",
    "import urllib.request\n",
    "import gzip"
   ]
  },
  {
   "cell_type": "code",
   "execution_count": 2,
   "metadata": {
    "collapsed": true
   },
   "outputs": [],
   "source": [
    "\n",
    "img_size = 784\n",
    "\n",
    "def load_dataset():\n",
    "\n",
    "    def download(filename, source='http://yann.lecun.com/exdb/mnist/'):\n",
    "        print(\"Downloading %s\" % filename)\n",
    "        urllib.request.urlretrieve(source + filename, filename)\n",
    "\n",
    "    def load_mnist_images(filename):\n",
    "        if not os.path.exists(filename):\n",
    "            download(filename)\n",
    "        \n",
    "        with gzip.open(filename, 'rb') as f:\n",
    "            data = np.frombuffer(f.read(), np.uint8, offset=16)\n",
    "        \n",
    "        data = data.reshape(-1, img_size)\n",
    "        \n",
    "        return data / np.float32(256)\n",
    "\n",
    "    def load_mnist_labels(filename):\n",
    "        if not os.path.exists(filename):\n",
    "            download(filename)\n",
    "        # Read the labels in Yann LeCun's binary format.\n",
    "        with gzip.open(filename, 'rb') as f:\n",
    "            data = np.frombuffer(f.read(), np.uint8, offset=8)\n",
    "            \n",
    "        return data\n",
    "    \n",
    "    def _change_one_hot_label(X):\n",
    "        T = np.zeros((X.size, 10))\n",
    "        for idx, row in enumerate(T):\n",
    "            row[X[idx]] = 1\n",
    "        \n",
    "        return T\n",
    "\n",
    "    \n",
    "    X_train = load_mnist_images('train-images-idx3-ubyte.gz')\n",
    "    y_train = load_mnist_labels('train-labels-idx1-ubyte.gz')\n",
    "    X_test = load_mnist_images('t10k-images-idx3-ubyte.gz')\n",
    "    y_test = load_mnist_labels('t10k-labels-idx1-ubyte.gz')\n",
    "    \n",
    "    y_train = _change_one_hot_label(y_train)\n",
    "    y_test =  _change_one_hot_label(y_test)\n",
    "\n",
    "    X_train, X_val = X_train[:-10000], X_train[-10000:]\n",
    "    y_train, y_val = y_train[:-10000], y_train[-10000:]\n",
    "\n",
    "    return X_train, y_train, X_val, y_val, X_test, y_test\n"
   ]
  },
  {
   "cell_type": "code",
   "execution_count": 3,
   "metadata": {
    "collapsed": false
   },
   "outputs": [],
   "source": [
    "X_train, y_train, X_val, y_val, X_test, y_test = load_dataset()"
   ]
  },
  {
   "cell_type": "markdown",
   "metadata": {},
   "source": [
    "# Implementing 3 layer Neural Network  \n",
    "Reference :   \n",
    "https://github.com/oreilly-japan/deep-learning-from-scratch/blob/master/ch04/two_layer_net.py  \n",
    "https://github.com/oreilly-japan/deep-learning-from-scratch/blob/master/ch04/train_neuralnet.py  \n"
   ]
  },
  {
   "cell_type": "code",
   "execution_count": 4,
   "metadata": {
    "collapsed": true
   },
   "outputs": [],
   "source": [
    "def sigmoid(x):\n",
    "    return 1.0 / (1.0 + np.exp(-x))\n",
    "\n",
    "def sigmoid_diff(x):\n",
    "    return (1.0 - sigmoid(x)) * sigmoid(x)\n",
    "\n",
    "def softmax(x):\n",
    "    if x.ndim == 2:\n",
    "        x = x.T\n",
    "        x = x - np.max(x, axis=0)\n",
    "        y = np.exp(x) / np.sum(np.exp(x), axis=0)\n",
    "        return y.T \n",
    "    \n",
    "    x = x - np.max(x) \n",
    "    return np.exp(x) / np.sum(np.exp(x))\n",
    "    \n",
    "def cross_entropy_error(y, t):\n",
    "    if y.ndim == 1:   \n",
    "        t = t.reshape(1, t.size)\n",
    "        y = y.reshape(1, y.size)\n",
    "        \n",
    "    if t.size == y.size:\n",
    "        t = t.argmax(axis=1)\n",
    "             \n",
    "    batch_size = y.shape[0]\n",
    "    return -np.sum(np.log(y[np.arange(batch_size), t])) / batch_size\n",
    "\n",
    "\n",
    "class Three_Layer_NN:\n",
    "    \n",
    "    def __init__(self, input_size, hidden_1_size, hidden_2_size, output_size, std=0.01):\n",
    "        \n",
    "        self.params = {}\n",
    "        self.params['W1'] = std * np.random.randn(input_size, hidden_1_size)\n",
    "        self.params['b1'] = np.zeros(hidden_1_size)\n",
    "        self.params['W2'] = std * np.random.randn(hidden_1_size, hidden_2_size)\n",
    "        self.params['b2'] = np.zeros(hidden_2_size)\n",
    "        self.params['W3'] = std * np.random.randn(hidden_2_size, output_size)\n",
    "        self.params['b3'] = np.zeros(output_size)\n",
    "    \n",
    "    \n",
    "    def loss(self, X, t=None):\n",
    "        W1, b1 = self.params['W1'], self.params['b1']\n",
    "        W2, b2 = self.params['W2'], self.params['b2']\n",
    "        W3, b3 = self.params['W3'], self.params['b3']\n",
    "        \n",
    "        \n",
    "        # forward\n",
    "        U1 = np.dot(X, W1) + b1    \n",
    "        Z1 = sigmoid(U1)           \n",
    "        U2 = np.dot(Z1, W2) + b2\n",
    "        Z2 = sigmoid(U2)\n",
    "        U3 = np.dot(Z2, W3) + b3\n",
    "        y = softmax(U3)     \n",
    "                \n",
    "        if t is None:\n",
    "            return y\n",
    "        \n",
    "        # loss function\n",
    "        loss = cross_entropy_error(y, t)    \n",
    "        \n",
    "        # back propagation\n",
    "        grads = {}\n",
    "        batch_num = X.shape[0]\n",
    "        \n",
    "        delta_3 = (y - t) / batch_num        \n",
    "        grads['W3'] = np.dot(Z2.T, delta_3)\n",
    "        grads['b3'] = np.sum(delta_3, axis=0)\n",
    "        \n",
    "        delta_2 = (np.dot(delta_3, W3.T)) * sigmoid_diff(U2)\n",
    "        grads['W2'] = np.dot(Z1.T, delta_2)\n",
    "        grads['b2'] = np.sum(delta_2, axis=0)\n",
    "        \n",
    "        delta_1 = (np.dot(delta_2, W2.T)) * sigmoid_diff(U1)\n",
    "        grads['W1'] = np.dot(X.T, delta_1)\n",
    "        grads['b1'] = np.sum(delta_1, axis=0)\n",
    "        \n",
    "        return loss, grads\n",
    "    \n",
    "    # Training by SGD\n",
    "    def train(self, X, t, X_val, y_val, learning_rate=0.1, num_iters=10000, batch_size=100):\n",
    "        \n",
    "        train_acc_list = []\n",
    "        val_acc_list = []\n",
    "        \n",
    "        iter_per_epoch = 500\n",
    "        \n",
    "        for i in range(num_iters):\n",
    "            batch = np.random.choice(X.shape[0], batch_size)\n",
    "            X_batch = X[batch]\n",
    "            t_batch = t[batch]\n",
    "            \n",
    "            loss, grads = self.loss(X_batch, t_batch)\n",
    "            \n",
    "            for key in ('W1', 'b1', 'W2', 'b2', 'W3', 'b3'):\n",
    "                self.params[key] -= learning_rate * grads[key] \n",
    "            \n",
    "            if i % iter_per_epoch == 0:\n",
    "                train_acc = self.accuracy(X, t)\n",
    "                val_acc = self.accuracy(X_val, y_val)\n",
    "                train_acc_list.append(train_acc)\n",
    "                val_acc_list.append(val_acc)\n",
    "                print(i, \": train acc, val acc | \" + str(train_acc) + \", \" + str(val_acc))\n",
    "                \n",
    "        print(\"Finish!\")\n",
    "        return train_acc_list, val_acc_list\n",
    "            \n",
    "    \n",
    "    def predict(self, X):    \n",
    "        return self.loss(X)\n",
    "    \n",
    "    def accuracy(self, X, t):\n",
    "        y = self.predict(X)\n",
    "        y = np.argmax(y, axis=1)\n",
    "        t = np.argmax(t, axis=1)\n",
    "        \n",
    "        accuracy = np.sum(y == t) / float(X.shape[0])\n",
    "        return accuracy\n",
    "        "
   ]
  },
  {
   "cell_type": "markdown",
   "metadata": {},
   "source": [
    "# Feeding the data and Checking the accuracy "
   ]
  },
  {
   "cell_type": "code",
   "execution_count": 13,
   "metadata": {
    "collapsed": false
   },
   "outputs": [
    {
     "name": "stdout",
     "output_type": "stream",
     "text": [
      "0 : train acc, val acc | 0.09936, 0.099\n",
      "500 : train acc, val acc | 0.1035, 0.109\n",
      "1000 : train acc, val acc | 0.11356, 0.1064\n",
      "1500 : train acc, val acc | 0.10202, 0.103\n",
      "2000 : train acc, val acc | 0.11356, 0.1064\n",
      "2500 : train acc, val acc | 0.20926, 0.2156\n",
      "3000 : train acc, val acc | 0.36348, 0.3705\n",
      "3500 : train acc, val acc | 0.53948, 0.5647\n",
      "4000 : train acc, val acc | 0.65386, 0.6774\n",
      "4500 : train acc, val acc | 0.75854, 0.7908\n",
      "5000 : train acc, val acc | 0.79964, 0.823\n",
      "5500 : train acc, val acc | 0.81998, 0.8345\n",
      "6000 : train acc, val acc | 0.84584, 0.857\n",
      "6500 : train acc, val acc | 0.8597, 0.8668\n",
      "7000 : train acc, val acc | 0.87174, 0.8778\n",
      "7500 : train acc, val acc | 0.8785, 0.8836\n",
      "8000 : train acc, val acc | 0.88868, 0.8936\n",
      "8500 : train acc, val acc | 0.89548, 0.9011\n",
      "9000 : train acc, val acc | 0.90386, 0.9073\n",
      "9500 : train acc, val acc | 0.90818, 0.912\n",
      "Finish!\n"
     ]
    }
   ],
   "source": [
    "# Learnig rate : 0.1\n",
    "# Iteration : 10000\n",
    "# Batch size : 100\n",
    "network = Three_Layer_NN(input_size=784, hidden_1_size=255, hidden_2_size=75, \n",
    "                         output_size=10, std=0.01)\n",
    "\n",
    "_, _ = network.train(X_train, y_train, X_val, y_val, learning_rate=0.1, num_iters=10000, batch_size=100)"
   ]
  },
  {
   "cell_type": "code",
   "execution_count": 14,
   "metadata": {
    "collapsed": false
   },
   "outputs": [
    {
     "data": {
      "text/plain": [
       "0.91249999999999998"
      ]
     },
     "execution_count": 14,
     "metadata": {},
     "output_type": "execute_result"
    }
   ],
   "source": [
    "network.accuracy(X_test, y_test)"
   ]
  },
  {
   "cell_type": "code",
   "execution_count": null,
   "metadata": {
    "collapsed": true
   },
   "outputs": [],
   "source": []
  },
  {
   "cell_type": "code",
   "execution_count": 15,
   "metadata": {
    "collapsed": false
   },
   "outputs": [
    {
     "name": "stdout",
     "output_type": "stream",
     "text": [
      "0 : train acc, val acc | 0.11356, 0.1064\n",
      "500 : train acc, val acc | 0.39774, 0.3863\n",
      "1000 : train acc, val acc | 0.85136, 0.8626\n",
      "1500 : train acc, val acc | 0.92042, 0.9254\n",
      "2000 : train acc, val acc | 0.93692, 0.9422\n",
      "2500 : train acc, val acc | 0.95314, 0.9526\n",
      "3000 : train acc, val acc | 0.96066, 0.9605\n",
      "3500 : train acc, val acc | 0.96656, 0.9631\n",
      "4000 : train acc, val acc | 0.97092, 0.9663\n",
      "4500 : train acc, val acc | 0.97664, 0.9683\n",
      "Finish!\n"
     ]
    }
   ],
   "source": [
    "# Learnig rate : 1.1\n",
    "# Iteration : 5000\n",
    "# Batch size : 100\n",
    "network = Three_Layer_NN(input_size=784, hidden_1_size=255, hidden_2_size=75, \n",
    "                         output_size=10, std=0.01)\n",
    "\n",
    "_, _ = network.train(X_train, y_train, X_val, y_val, learning_rate=1.1, num_iters=5000, batch_size=100)"
   ]
  },
  {
   "cell_type": "code",
   "execution_count": 16,
   "metadata": {
    "collapsed": false
   },
   "outputs": [
    {
     "data": {
      "text/plain": [
       "0.96999999999999997"
      ]
     },
     "execution_count": 16,
     "metadata": {},
     "output_type": "execute_result"
    }
   ],
   "source": [
    "network.accuracy(X_test, y_test)"
   ]
  },
  {
   "cell_type": "markdown",
   "metadata": {},
   "source": []
  },
  {
   "cell_type": "markdown",
   "metadata": {
    "collapsed": true
   },
   "source": [
    "# Option "
   ]
  },
  {
   "cell_type": "markdown",
   "metadata": {},
   "source": [
    "## Hyper parameter tuning : Learning rate"
   ]
  },
  {
   "cell_type": "code",
   "execution_count": 5,
   "metadata": {
    "collapsed": true
   },
   "outputs": [],
   "source": [
    "import matplotlib.pyplot as plt\n",
    "%matplotlib inline"
   ]
  },
  {
   "cell_type": "code",
   "execution_count": 7,
   "metadata": {
    "collapsed": false
   },
   "outputs": [
    {
     "name": "stdout",
     "output_type": "stream",
     "text": [
      "learnig rate : 0.1\n",
      "0 : train acc, val acc | 0.1035, 0.109\n",
      "500 : train acc, val acc | 0.11356, 0.1064\n",
      "1000 : train acc, val acc | 0.11356, 0.1064\n",
      "1500 : train acc, val acc | 0.11356, 0.1064\n",
      "2000 : train acc, val acc | 0.10202, 0.103\n",
      "2500 : train acc, val acc | 0.22418, 0.219\n",
      "3000 : train acc, val acc | 0.36874, 0.3726\n",
      "3500 : train acc, val acc | 0.53864, 0.5546\n",
      "4000 : train acc, val acc | 0.6162, 0.6393\n",
      "4500 : train acc, val acc | 0.72974, 0.7578\n",
      "5000 : train acc, val acc | 0.7804, 0.804\n",
      "5500 : train acc, val acc | 0.80946, 0.8249\n",
      "6000 : train acc, val acc | 0.836, 0.8485\n",
      "6500 : train acc, val acc | 0.85326, 0.8612\n",
      "7000 : train acc, val acc | 0.86706, 0.8737\n",
      "7500 : train acc, val acc | 0.87866, 0.8843\n",
      "8000 : train acc, val acc | 0.88568, 0.8909\n",
      "8500 : train acc, val acc | 0.8964, 0.9017\n",
      "9000 : train acc, val acc | 0.90234, 0.9082\n",
      "9500 : train acc, val acc | 0.90586, 0.9111\n",
      "Finish!\n",
      "lr = 0.1 : accuracy (test) 0.9136\n",
      "learnig rate : 0.2\n",
      "0 : train acc, val acc | 0.10202, 0.103\n",
      "500 : train acc, val acc | 0.11356, 0.1064\n",
      "1000 : train acc, val acc | 0.11356, 0.1064\n",
      "1500 : train acc, val acc | 0.2663, 0.2657\n",
      "2000 : train acc, val acc | 0.43982, 0.4504\n",
      "2500 : train acc, val acc | 0.63462, 0.6541\n",
      "3000 : train acc, val acc | 0.7941, 0.8108\n",
      "3500 : train acc, val acc | 0.8474, 0.8575\n",
      "4000 : train acc, val acc | 0.8733, 0.8784\n",
      "4500 : train acc, val acc | 0.88758, 0.894\n",
      "5000 : train acc, val acc | 0.90108, 0.9064\n",
      "5500 : train acc, val acc | 0.91348, 0.9192\n",
      "6000 : train acc, val acc | 0.92192, 0.927\n",
      "6500 : train acc, val acc | 0.92808, 0.9326\n",
      "7000 : train acc, val acc | 0.93102, 0.9354\n",
      "7500 : train acc, val acc | 0.93808, 0.9394\n",
      "8000 : train acc, val acc | 0.9431, 0.9474\n",
      "8500 : train acc, val acc | 0.94756, 0.949\n",
      "9000 : train acc, val acc | 0.95028, 0.9528\n",
      "9500 : train acc, val acc | 0.95402, 0.9548\n",
      "Finish!\n",
      "lr = 0.2 : accuracy (test) 0.9535\n",
      "learnig rate : 0.3\n",
      "0 : train acc, val acc | 0.09864, 0.0991\n",
      "500 : train acc, val acc | 0.1035, 0.109\n",
      "1000 : train acc, val acc | 0.2539, 0.2523\n",
      "1500 : train acc, val acc | 0.3283, 0.328\n",
      "2000 : train acc, val acc | 0.60756, 0.6201\n",
      "2500 : train acc, val acc | 0.82096, 0.8381\n",
      "3000 : train acc, val acc | 0.86692, 0.8729\n",
      "3500 : train acc, val acc | 0.88418, 0.8919\n",
      "4000 : train acc, val acc | 0.9118, 0.9163\n",
      "4500 : train acc, val acc | 0.92188, 0.9264\n",
      "5000 : train acc, val acc | 0.9289, 0.9313\n",
      "5500 : train acc, val acc | 0.93324, 0.9384\n",
      "6000 : train acc, val acc | 0.94096, 0.9449\n",
      "6500 : train acc, val acc | 0.94686, 0.9488\n",
      "7000 : train acc, val acc | 0.95194, 0.9524\n",
      "7500 : train acc, val acc | 0.95516, 0.9572\n",
      "8000 : train acc, val acc | 0.95858, 0.96\n",
      "8500 : train acc, val acc | 0.9577, 0.9589\n",
      "9000 : train acc, val acc | 0.96308, 0.9628\n",
      "9500 : train acc, val acc | 0.96636, 0.9645\n",
      "Finish!\n",
      "lr = 0.3 : accuracy (test) 0.9635\n",
      "learnig rate : 0.4\n",
      "0 : train acc, val acc | 0.09936, 0.099\n",
      "500 : train acc, val acc | 0.11356, 0.1064\n",
      "1000 : train acc, val acc | 0.30976, 0.3096\n",
      "1500 : train acc, val acc | 0.50642, 0.5222\n",
      "2000 : train acc, val acc | 0.79352, 0.8091\n",
      "2500 : train acc, val acc | 0.87266, 0.881\n",
      "3000 : train acc, val acc | 0.9033, 0.91\n",
      "3500 : train acc, val acc | 0.90706, 0.9129\n",
      "4000 : train acc, val acc | 0.92764, 0.9316\n",
      "4500 : train acc, val acc | 0.9373, 0.9414\n",
      "5000 : train acc, val acc | 0.94532, 0.9465\n",
      "5500 : train acc, val acc | 0.94958, 0.9531\n",
      "6000 : train acc, val acc | 0.9513, 0.9526\n",
      "6500 : train acc, val acc | 0.95738, 0.9578\n",
      "7000 : train acc, val acc | 0.96186, 0.9621\n",
      "7500 : train acc, val acc | 0.96358, 0.9619\n",
      "8000 : train acc, val acc | 0.96542, 0.9614\n",
      "8500 : train acc, val acc | 0.96688, 0.9615\n",
      "9000 : train acc, val acc | 0.97106, 0.9669\n",
      "9500 : train acc, val acc | 0.97498, 0.9671\n",
      "Finish!\n",
      "lr = 0.4 : accuracy (test) 0.9676\n",
      "learnig rate : 0.5\n",
      "0 : train acc, val acc | 0.11356, 0.1064\n",
      "500 : train acc, val acc | 0.24102, 0.2371\n",
      "1000 : train acc, val acc | 0.33042, 0.3287\n",
      "1500 : train acc, val acc | 0.73738, 0.757\n",
      "2000 : train acc, val acc | 0.87064, 0.8774\n",
      "2500 : train acc, val acc | 0.89896, 0.9025\n",
      "3000 : train acc, val acc | 0.92216, 0.9287\n",
      "3500 : train acc, val acc | 0.93414, 0.9393\n",
      "4000 : train acc, val acc | 0.94266, 0.9494\n",
      "4500 : train acc, val acc | 0.95066, 0.9538\n",
      "5000 : train acc, val acc | 0.95588, 0.9574\n",
      "5500 : train acc, val acc | 0.96188, 0.9623\n",
      "6000 : train acc, val acc | 0.96472, 0.9643\n",
      "6500 : train acc, val acc | 0.96754, 0.9663\n",
      "7000 : train acc, val acc | 0.97, 0.9671\n",
      "7500 : train acc, val acc | 0.97036, 0.9656\n",
      "8000 : train acc, val acc | 0.97618, 0.9702\n",
      "8500 : train acc, val acc | 0.97676, 0.9691\n",
      "9000 : train acc, val acc | 0.97702, 0.9693\n",
      "9500 : train acc, val acc | 0.9793, 0.9715\n",
      "Finish!\n",
      "lr = 0.5 : accuracy (test) 0.9712\n",
      "learnig rate : 0.6\n",
      "0 : train acc, val acc | 0.09902, 0.0967\n",
      "500 : train acc, val acc | 0.28774, 0.2833\n",
      "1000 : train acc, val acc | 0.40098, 0.399\n",
      "1500 : train acc, val acc | 0.81754, 0.8281\n",
      "2000 : train acc, val acc | 0.89604, 0.8988\n",
      "2500 : train acc, val acc | 0.91706, 0.9227\n",
      "3000 : train acc, val acc | 0.93296, 0.9383\n",
      "3500 : train acc, val acc | 0.93982, 0.9433\n",
      "4000 : train acc, val acc | 0.94772, 0.9511\n",
      "4500 : train acc, val acc | 0.95856, 0.961\n",
      "5000 : train acc, val acc | 0.95958, 0.9589\n",
      "5500 : train acc, val acc | 0.96616, 0.9639\n",
      "6000 : train acc, val acc | 0.97002, 0.9663\n",
      "6500 : train acc, val acc | 0.973, 0.9685\n",
      "7000 : train acc, val acc | 0.9754, 0.9694\n",
      "7500 : train acc, val acc | 0.9788, 0.9714\n",
      "8000 : train acc, val acc | 0.9795, 0.9702\n",
      "8500 : train acc, val acc | 0.97974, 0.9699\n",
      "9000 : train acc, val acc | 0.98292, 0.9722\n",
      "9500 : train acc, val acc | 0.981, 0.9708\n",
      "Finish!\n",
      "lr = 0.6 : accuracy (test) 0.9687\n",
      "learnig rate : 0.7\n",
      "0 : train acc, val acc | 0.09684, 0.1009\n",
      "500 : train acc, val acc | 0.29416, 0.2937\n",
      "1000 : train acc, val acc | 0.5587, 0.5708\n",
      "1500 : train acc, val acc | 0.86636, 0.8703\n",
      "2000 : train acc, val acc | 0.9109, 0.917\n",
      "2500 : train acc, val acc | 0.92794, 0.9317\n",
      "3000 : train acc, val acc | 0.94188, 0.9444\n",
      "3500 : train acc, val acc | 0.95102, 0.953\n",
      "4000 : train acc, val acc | 0.95986, 0.9601\n",
      "4500 : train acc, val acc | 0.96572, 0.9634\n",
      "5000 : train acc, val acc | 0.96516, 0.9601\n",
      "5500 : train acc, val acc | 0.97102, 0.9668\n",
      "6000 : train acc, val acc | 0.97424, 0.9692\n",
      "6500 : train acc, val acc | 0.97614, 0.9698\n",
      "7000 : train acc, val acc | 0.97974, 0.9704\n",
      "7500 : train acc, val acc | 0.98054, 0.9714\n",
      "8000 : train acc, val acc | 0.98376, 0.9736\n",
      "8500 : train acc, val acc | 0.98582, 0.9746\n",
      "9000 : train acc, val acc | 0.9867, 0.9749\n",
      "9500 : train acc, val acc | 0.98426, 0.9704\n",
      "Finish!\n",
      "lr = 0.7 : accuracy (test) 0.9752\n",
      "learnig rate : 0.8\n",
      "0 : train acc, val acc | 0.1035, 0.109\n",
      "500 : train acc, val acc | 0.32582, 0.3268\n",
      "1000 : train acc, val acc | 0.64472, 0.6578\n",
      "1500 : train acc, val acc | 0.88558, 0.8926\n",
      "2000 : train acc, val acc | 0.92422, 0.93\n",
      "2500 : train acc, val acc | 0.93906, 0.9423\n",
      "3000 : train acc, val acc | 0.94852, 0.951\n",
      "3500 : train acc, val acc | 0.95924, 0.9609\n",
      "4000 : train acc, val acc | 0.9627, 0.9615\n",
      "4500 : train acc, val acc | 0.96496, 0.9624\n",
      "5000 : train acc, val acc | 0.97334, 0.97\n",
      "5500 : train acc, val acc | 0.97534, 0.97\n",
      "6000 : train acc, val acc | 0.97782, 0.9718\n",
      "6500 : train acc, val acc | 0.97904, 0.9705\n",
      "7000 : train acc, val acc | 0.98098, 0.9704\n",
      "7500 : train acc, val acc | 0.9837, 0.9743\n",
      "8000 : train acc, val acc | 0.98532, 0.9737\n",
      "8500 : train acc, val acc | 0.98818, 0.9742\n",
      "9000 : train acc, val acc | 0.989, 0.9746\n",
      "9500 : train acc, val acc | 0.98844, 0.9737\n",
      "Finish!\n",
      "lr = 0.8 : accuracy (test) 0.9762\n",
      "learnig rate : 0.9\n",
      "0 : train acc, val acc | 0.11356, 0.1064\n",
      "500 : train acc, val acc | 0.31682, 0.3151\n",
      "1000 : train acc, val acc | 0.78654, 0.8028\n",
      "1500 : train acc, val acc | 0.91038, 0.9145\n",
      "2000 : train acc, val acc | 0.9287, 0.934\n",
      "2500 : train acc, val acc | 0.9409, 0.945\n",
      "3000 : train acc, val acc | 0.95474, 0.9564\n",
      "3500 : train acc, val acc | 0.9587, 0.9563\n",
      "4000 : train acc, val acc | 0.96304, 0.9599\n",
      "4500 : train acc, val acc | 0.96992, 0.9666\n",
      "5000 : train acc, val acc | 0.97348, 0.9677\n",
      "5500 : train acc, val acc | 0.97202, 0.966\n",
      "6000 : train acc, val acc | 0.9789, 0.9691\n",
      "6500 : train acc, val acc | 0.9825, 0.9709\n",
      "7000 : train acc, val acc | 0.98326, 0.9706\n",
      "7500 : train acc, val acc | 0.98764, 0.9737\n",
      "8000 : train acc, val acc | 0.98866, 0.9746\n",
      "8500 : train acc, val acc | 0.989, 0.9741\n",
      "9000 : train acc, val acc | 0.99062, 0.9756\n",
      "9500 : train acc, val acc | 0.99178, 0.9741\n",
      "Finish!\n",
      "lr = 0.9 : accuracy (test) 0.9718\n"
     ]
    }
   ],
   "source": [
    "# Iteration : 10000\n",
    "# batch size : 100\n",
    "\n",
    "# 0.1 ~ 0.9\n",
    "val_acc_list_decimal = []\n",
    "for lr in np.arange(0.1, 1.0, 0.1):\n",
    "    print(\"learnig rate :\", lr)\n",
    "    network = Three_Layer_NN(input_size=784, hidden_1_size=255, hidden_2_size=75, \n",
    "                         output_size=10, std=0.01)\n",
    "    _, val_acc_list = network.train(X_train, y_train, X_val, y_val, \n",
    "                                       learning_rate=lr, num_iters=10000, batch_size=100)\n",
    "    val_acc_list_decimal.append(val_acc_list)\n",
    "    print(\"lr =\",lr, \": accuracy (test)\", network.accuracy(X_test, y_test))"
   ]
  },
  {
   "cell_type": "code",
   "execution_count": 8,
   "metadata": {
    "collapsed": false
   },
   "outputs": [
    {
     "data": {
      "image/png": "[encoded data removed]",
      "text/plain": [
       "<matplotlib.figure.Figure at 0x11b945b70>"
      ]
     },
     "metadata": {},
     "output_type": "display_data"
    }
   ],
   "source": [
    "i = 0.1\n",
    "for val_acc_list in val_acc_list_decimal:\n",
    "    x = np.arange(len(val_acc_list))\n",
    "    \n",
    "    plt.plot(x, val_acc_list, label='lr=%0.2f' % i, linestyle='--')\n",
    "    plt.xlabel(\"epochs\")\n",
    "    plt.ylabel(\"accuracy (val)\")\n",
    "    plt.ylim(0, 1.0)\n",
    "    plt.legend(loc='lower right')\n",
    "    i += 0.1"
   ]
  },
  {
   "cell_type": "code",
   "execution_count": null,
   "metadata": {
    "collapsed": true
   },
   "outputs": [],
   "source": []
  },
  {
   "cell_type": "code",
   "execution_count": 17,
   "metadata": {
    "collapsed": false
   },
   "outputs": [
    {
     "name": "stdout",
     "output_type": "stream",
     "text": [
      "learnig rate : 1.0\n",
      "0 : train acc, val acc | 0.09936, 0.099\n",
      "500 : train acc, val acc | 0.34782, 0.3453\n",
      "1000 : train acc, val acc | 0.84774, 0.8566\n",
      "1500 : train acc, val acc | 0.9164, 0.923\n",
      "2000 : train acc, val acc | 0.93726, 0.9434\n",
      "2500 : train acc, val acc | 0.94682, 0.9491\n",
      "3000 : train acc, val acc | 0.94958, 0.9503\n",
      "3500 : train acc, val acc | 0.96672, 0.9651\n",
      "4000 : train acc, val acc | 0.96986, 0.966\n",
      "4500 : train acc, val acc | 0.97506, 0.9684\n",
      "Finish!\n",
      "lr = 1.0 : accuracy (test) 0.9665\n",
      "learnig rate : 2.0\n",
      "0 : train acc, val acc | 0.1035, 0.109\n",
      "500 : train acc, val acc | 0.59982, 0.6145\n",
      "1000 : train acc, val acc | 0.92354, 0.9288\n",
      "1500 : train acc, val acc | 0.94424, 0.9472\n",
      "2000 : train acc, val acc | 0.95648, 0.9555\n",
      "2500 : train acc, val acc | 0.96668, 0.9613\n",
      "3000 : train acc, val acc | 0.97626, 0.9696\n",
      "3500 : train acc, val acc | 0.98106, 0.9713\n",
      "4000 : train acc, val acc | 0.9835, 0.9722\n",
      "4500 : train acc, val acc | 0.98364, 0.9711\n",
      "Finish!\n",
      "lr = 2.0 : accuracy (test) 0.9712\n",
      "learnig rate : 3.0\n",
      "0 : train acc, val acc | 0.09936, 0.099\n",
      "500 : train acc, val acc | 0.85338, 0.8662\n",
      "1000 : train acc, val acc | 0.93232, 0.9372\n",
      "1500 : train acc, val acc | 0.95186, 0.9537\n",
      "2000 : train acc, val acc | 0.96564, 0.9654\n",
      "2500 : train acc, val acc | 0.97324, 0.9657\n",
      "3000 : train acc, val acc | 0.97888, 0.971\n",
      "3500 : train acc, val acc | 0.98478, 0.9707\n",
      "4000 : train acc, val acc | 0.98564, 0.9707\n",
      "4500 : train acc, val acc | 0.98852, 0.9724\n",
      "Finish!\n",
      "lr = 3.0 : accuracy (test) 0.9735\n",
      "learnig rate : 4.0\n",
      "0 : train acc, val acc | 0.09864, 0.0991\n",
      "500 : train acc, val acc | 0.82116, 0.8309\n",
      "1000 : train acc, val acc | 0.93904, 0.942\n",
      "1500 : train acc, val acc | 0.96566, 0.9638\n",
      "2000 : train acc, val acc | 0.97312, 0.9661\n",
      "2500 : train acc, val acc | 0.98074, 0.9692\n",
      "3000 : train acc, val acc | 0.98262, 0.9713\n",
      "3500 : train acc, val acc | 0.98122, 0.9672\n",
      "4000 : train acc, val acc | 0.98832, 0.9724\n",
      "4500 : train acc, val acc | 0.99096, 0.9732\n",
      "Finish!\n",
      "lr = 4.0 : accuracy (test) 0.9761\n",
      "learnig rate : 5.0\n",
      "0 : train acc, val acc | 0.09902, 0.0967\n",
      "500 : train acc, val acc | 0.90208, 0.9083\n",
      "1000 : train acc, val acc | 0.95006, 0.949\n",
      "1500 : train acc, val acc | 0.96286, 0.9576\n",
      "2000 : train acc, val acc | 0.97256, 0.9667\n",
      "2500 : train acc, val acc | 0.97814, 0.9668\n",
      "3000 : train acc, val acc | 0.98018, 0.9681\n",
      "3500 : train acc, val acc | 0.98424, 0.9704\n",
      "4000 : train acc, val acc | 0.98822, 0.9721\n",
      "4500 : train acc, val acc | 0.991, 0.9733\n",
      "Finish!\n",
      "lr = 5.0 : accuracy (test) 0.9755\n",
      "learnig rate : 6.0\n",
      "0 : train acc, val acc | 0.09012, 0.0915\n",
      "500 : train acc, val acc | 0.82232, 0.8394\n",
      "1000 : train acc, val acc | 0.942, 0.9423\n",
      "1500 : train acc, val acc | 0.96574, 0.9632\n",
      "2000 : train acc, val acc | 0.97226, 0.9652\n",
      "2500 : train acc, val acc | 0.97378, 0.9652\n",
      "3000 : train acc, val acc | 0.97896, 0.9681\n",
      "3500 : train acc, val acc | 0.98472, 0.9731\n",
      "4000 : train acc, val acc | 0.9853, 0.9734\n",
      "4500 : train acc, val acc | 0.98872, 0.9752\n",
      "Finish!\n",
      "lr = 6.0 : accuracy (test) 0.9734\n",
      "learnig rate : 7.0\n",
      "0 : train acc, val acc | 0.09718, 0.0983\n",
      "500 : train acc, val acc | 0.09902, 0.0967\n",
      "1000 : train acc, val acc | 0.09684, 0.1009\n",
      "1500 : train acc, val acc | 0.09864, 0.0991\n",
      "2000 : train acc, val acc | 0.11356, 0.1064\n",
      "2500 : train acc, val acc | 0.11356, 0.1064\n",
      "3000 : train acc, val acc | 0.09936, 0.099\n",
      "3500 : train acc, val acc | 0.11356, 0.1064\n",
      "4000 : train acc, val acc | 0.1035, 0.109\n",
      "4500 : train acc, val acc | 0.1035, 0.109\n",
      "Finish!\n",
      "lr = 7.0 : accuracy (test) 0.098\n",
      "learnig rate : 8.0\n",
      "0 : train acc, val acc | 0.09936, 0.099\n",
      "500 : train acc, val acc | 0.11356, 0.1064\n",
      "1000 : train acc, val acc | 0.11356, 0.1064\n",
      "1500 : train acc, val acc | 0.11356, 0.1064\n",
      "2000 : train acc, val acc | 0.09684, 0.1009\n",
      "2500 : train acc, val acc | 0.09902, 0.0967\n",
      "3000 : train acc, val acc | 0.10202, 0.103\n",
      "3500 : train acc, val acc | 0.09976, 0.0961\n",
      "4000 : train acc, val acc | 0.11356, 0.1064\n",
      "4500 : train acc, val acc | 0.09902, 0.0967\n",
      "Finish!\n",
      "lr = 8.0 : accuracy (test) 0.0958\n",
      "learnig rate : 9.0\n",
      "0 : train acc, val acc | 0.11356, 0.1064\n",
      "500 : train acc, val acc | 0.09976, 0.0961\n",
      "1000 : train acc, val acc | 0.1035, 0.109\n",
      "1500 : train acc, val acc | 0.09976, 0.0961\n",
      "2000 : train acc, val acc | 0.1035, 0.109\n",
      "2500 : train acc, val acc | 0.11356, 0.1064\n",
      "3000 : train acc, val acc | 0.11356, 0.1064\n",
      "3500 : train acc, val acc | 0.09902, 0.0967\n",
      "4000 : train acc, val acc | 0.1035, 0.109\n",
      "4500 : train acc, val acc | 0.09718, 0.0983\n",
      "Finish!\n",
      "lr = 9.0 : accuracy (test) 0.1135\n",
      "learnig rate : 10.0\n",
      "0 : train acc, val acc | 0.1035, 0.109\n",
      "500 : train acc, val acc | 0.09864, 0.0991\n",
      "1000 : train acc, val acc | 0.09936, 0.099\n",
      "1500 : train acc, val acc | 0.09936, 0.099\n",
      "2000 : train acc, val acc | 0.09976, 0.0961\n",
      "2500 : train acc, val acc | 0.09718, 0.0983\n",
      "3000 : train acc, val acc | 0.11356, 0.1064\n",
      "3500 : train acc, val acc | 0.09936, 0.099\n",
      "4000 : train acc, val acc | 0.09936, 0.099\n",
      "4500 : train acc, val acc | 0.11356, 0.1064\n",
      "Finish!\n",
      "lr = 10.0 : accuracy (test) 0.1009\n"
     ]
    }
   ],
   "source": [
    "# iteration : 5000\n",
    "# batch size : 100\n",
    "\n",
    "# 1.0 ~ 10.0\n",
    "val_acc_list_int = []\n",
    "for lr in np.arange(1.0, 11.0, 1):\n",
    "    print(\"learnig rate :\", lr)\n",
    "    network = Three_Layer_NN(input_size=784, hidden_1_size=255, hidden_2_size=75, \n",
    "                         output_size=10, std=0.01)\n",
    "    _, val_acc_list = network.train(X_train, y_train, X_val, y_val, \n",
    "                                       learning_rate=lr, num_iters=5000, batch_size=100)\n",
    "    val_acc_list_int.append(val_acc_list)\n",
    "    print(\"lr =\",lr, \": accuracy (test)\", network.accuracy(X_test, y_test))\n"
   ]
  },
  {
   "cell_type": "code",
   "execution_count": 20,
   "metadata": {
    "collapsed": false,
    "scrolled": false
   },
   "outputs": [
    {
     "data": {
      "image/png": "[encoded data removed]",
      "text/plain": [
       "<matplotlib.figure.Figure at 0x11e7dd080>"
      ]
     },
     "metadata": {},
     "output_type": "display_data"
    }
   ],
   "source": [
    "i = 1\n",
    "for val_acc_list in val_acc_list_int:\n",
    "    x = np.arange(len(val_acc_list))\n",
    "    \n",
    "    plt.plot(x, val_acc_list, label='lr=%0.1f' % i, linestyle='--')\n",
    "    plt.xlabel(\"epochs\")\n",
    "    plt.ylabel(\"accuracy (val)\")\n",
    "    plt.ylim(0, 1.0)\n",
    "    plt.legend(loc='lower right')\n",
    "    i += 1"
   ]
  },
  {
   "cell_type": "markdown",
   "metadata": {},
   "source": [
    "## Hyper parameter tuning : Batch size"
   ]
  },
  {
   "cell_type": "code",
   "execution_count": 24,
   "metadata": {
    "collapsed": false
   },
   "outputs": [
    {
     "name": "stdout",
     "output_type": "stream",
     "text": [
      "Batch size : 50\n",
      "0 : train acc, val acc | 0.1035, 0.109\n",
      "500 : train acc, val acc | 0.11356, 0.1064\n",
      "1000 : train acc, val acc | 0.11356, 0.1064\n",
      "1500 : train acc, val acc | 0.10202, 0.103\n",
      "2000 : train acc, val acc | 0.33766, 0.3487\n",
      "2500 : train acc, val acc | 0.9125, 0.9175\n",
      "3000 : train acc, val acc | 0.90824, 0.9142\n",
      "3500 : train acc, val acc | 0.9383, 0.9373\n",
      "4000 : train acc, val acc | 0.95182, 0.9526\n",
      "4500 : train acc, val acc | 0.95538, 0.9534\n",
      "Finish!\n",
      "Batch size = 50 : accuracy (test) 0.9531\n",
      "Batch size : 75\n",
      "0 : train acc, val acc | 0.09864, 0.0991\n",
      "500 : train acc, val acc | 0.1035, 0.109\n",
      "1000 : train acc, val acc | 0.59856, 0.6037\n",
      "1500 : train acc, val acc | 0.91672, 0.9187\n",
      "2000 : train acc, val acc | 0.95778, 0.9579\n",
      "2500 : train acc, val acc | 0.95858, 0.9516\n",
      "3000 : train acc, val acc | 0.97148, 0.9646\n",
      "3500 : train acc, val acc | 0.97474, 0.9658\n",
      "4000 : train acc, val acc | 0.97626, 0.9665\n",
      "4500 : train acc, val acc | 0.98306, 0.9704\n",
      "Finish!\n",
      "Batch size = 75 : accuracy (test) 0.969\n",
      "Batch size : 100\n",
      "0 : train acc, val acc | 0.09684, 0.1009\n",
      "500 : train acc, val acc | 0.88684, 0.8971\n",
      "1000 : train acc, val acc | 0.94526, 0.945\n",
      "1500 : train acc, val acc | 0.95684, 0.9553\n",
      "2000 : train acc, val acc | 0.96188, 0.9527\n",
      "2500 : train acc, val acc | 0.97798, 0.9686\n",
      "3000 : train acc, val acc | 0.98038, 0.9699\n",
      "3500 : train acc, val acc | 0.98574, 0.971\n",
      "4000 : train acc, val acc | 0.9896, 0.9748\n",
      "4500 : train acc, val acc | 0.99106, 0.9735\n",
      "Finish!\n",
      "Batch size = 100 : accuracy (test) 0.9768\n",
      "Batch size : 125\n",
      "0 : train acc, val acc | 0.09976, 0.0961\n",
      "500 : train acc, val acc | 0.89106, 0.8991\n",
      "1000 : train acc, val acc | 0.95694, 0.9556\n",
      "1500 : train acc, val acc | 0.97194, 0.9662\n",
      "2000 : train acc, val acc | 0.96918, 0.9623\n",
      "2500 : train acc, val acc | 0.98014, 0.9713\n",
      "3000 : train acc, val acc | 0.9836, 0.9709\n",
      "3500 : train acc, val acc | 0.9886, 0.9742\n",
      "4000 : train acc, val acc | 0.98974, 0.9715\n",
      "4500 : train acc, val acc | 0.99288, 0.9749\n",
      "Finish!\n",
      "Batch size = 125 : accuracy (test) 0.972\n",
      "Batch size : 150\n",
      "0 : train acc, val acc | 0.1035, 0.109\n",
      "500 : train acc, val acc | 0.8901, 0.9027\n",
      "1000 : train acc, val acc | 0.9556, 0.9583\n",
      "1500 : train acc, val acc | 0.96522, 0.9603\n",
      "2000 : train acc, val acc | 0.97684, 0.9706\n",
      "2500 : train acc, val acc | 0.98514, 0.9748\n",
      "3000 : train acc, val acc | 0.98606, 0.9738\n",
      "3500 : train acc, val acc | 0.98964, 0.9761\n",
      "4000 : train acc, val acc | 0.9919, 0.9751\n",
      "4500 : train acc, val acc | 0.99368, 0.9769\n",
      "Finish!\n",
      "Batch size = 150 : accuracy (test) 0.9745\n"
     ]
    }
   ],
   "source": [
    "val_acc_list_batch = []\n",
    "for batch in np.arange(50, 175, 25):\n",
    "    print(\"Batch size :\", batch)\n",
    "    network = Three_Layer_NN(input_size=784, hidden_1_size=255, hidden_2_size=75, \n",
    "                         output_size=10, std=0.01)\n",
    "    _, val_acc_list = network.train(X_train, y_train, X_val, y_val, \n",
    "                                       learning_rate=5.0, num_iters=5000, batch_size=batch)\n",
    "    val_acc_list_batch.append(val_acc_list)\n",
    "    print(\"Batch size =\", batch, \": accuracy (test)\", network.accuracy(X_test, y_test))\n",
    "    "
   ]
  },
  {
   "cell_type": "code",
   "execution_count": 26,
   "metadata": {
    "collapsed": false
   },
   "outputs": [
    {
     "data": {
      "image/png": "[encoded data removed]",
      "text/plain": [
       "<matplotlib.figure.Figure at 0x11e7d5cf8>"
      ]
     },
     "metadata": {},
     "output_type": "display_data"
    }
   ],
   "source": [
    "i = 50\n",
    "for val_acc_list in val_acc_list_batch:\n",
    "    x = np.arange(len(val_acc_list))\n",
    "    \n",
    "    plt.plot(x, val_acc_list, label='batch_size=%d' % i, linestyle='--')\n",
    "    plt.xlabel(\"epochs\")\n",
    "    plt.ylabel(\"accuracy (val)\")\n",
    "    plt.ylim(0, 1.0)\n",
    "    plt.legend(loc='lower right')\n",
    "    i += 25"
   ]
  },
  {
   "cell_type": "code",
   "execution_count": 7,
   "metadata": {
    "collapsed": false,
    "scrolled": false
   },
   "outputs": [
    {
     "name": "stdout",
     "output_type": "stream",
     "text": [
      "0 : train acc, val acc | 0.09902, 0.0967\n",
      "500 : train acc, val acc | 0.89538, 0.9035\n",
      "1000 : train acc, val acc | 0.94722, 0.9467\n",
      "1500 : train acc, val acc | 0.96152, 0.958\n",
      "2000 : train acc, val acc | 0.97278, 0.9654\n",
      "2500 : train acc, val acc | 0.97848, 0.9695\n",
      "3000 : train acc, val acc | 0.97566, 0.9641\n",
      "3500 : train acc, val acc | 0.98554, 0.9724\n",
      "4000 : train acc, val acc | 0.98924, 0.9726\n",
      "4500 : train acc, val acc | 0.98936, 0.9738\n",
      "5000 : train acc, val acc | 0.99214, 0.9735\n",
      "5500 : train acc, val acc | 0.99386, 0.9752\n",
      "Finish!\n"
     ]
    }
   ],
   "source": [
    "network = Three_Layer_NN(input_size=784, hidden_1_size=255, hidden_2_size=75, \n",
    "                         output_size=10, std=0.01)\n",
    "\n",
    "_, _ = network.train(X_train, y_train, X_val, y_val, learning_rate=5.0, num_iters=6000, batch_size=100)"
   ]
  },
  {
   "cell_type": "code",
   "execution_count": 8,
   "metadata": {
    "collapsed": false,
    "scrolled": true
   },
   "outputs": [
    {
     "data": {
      "text/plain": [
       "0.97199999999999998"
      ]
     },
     "execution_count": 8,
     "metadata": {},
     "output_type": "execute_result"
    }
   ],
   "source": [
    "network.accuracy(X_test, y_test)"
   ]
  }
 ],
 "metadata": {
  "anaconda-cloud": {},
  "kernelspec": {
   "display_name": "Python [Root]",
   "language": "python",
   "name": "Python [Root]"
  },
  "language_info": {
   "codemirror_mode": {
    "name": "ipython",
    "version": 3
   },
   "file_extension": ".py",
   "mimetype": "text/x-python",
   "name": "python",
   "nbconvert_exporter": "python",
   "pygments_lexer": "ipython3",
   "version": "3.5.1"
  }
 },
 "nbformat": 4,
 "nbformat_minor": 0
}
